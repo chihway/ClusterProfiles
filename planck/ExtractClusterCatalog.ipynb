{
 "cells": [
  {
   "cell_type": "code",
   "execution_count": 1,
   "metadata": {},
   "outputs": [
    {
     "name": "stdout",
     "output_type": "stream",
     "text": [
      "Populating the interactive namespace from numpy and matplotlib\n"
     ]
    }
   ],
   "source": [
    "import astropy.io.fits as pf\n",
    "import pylab as mplot\n",
    "%pylab inline\n",
    "import healpy as hp\n",
    "from astropy import units as u\n",
    "from astropy.coordinates import SkyCoord\n",
    "from pylab import cm\n",
    "mplot.rc('text', usetex=True)\n",
    "mplot.rc('font', family='serif')\n",
    "from astropy.cosmology import FlatLambdaCDM\n",
    "cosmo = FlatLambdaCDM(H0=70, Om0=0.3, Tcmb0=2.725)\n"
   ]
  },
  {
   "cell_type": "code",
   "execution_count": 2,
   "metadata": {},
   "outputs": [],
   "source": [
    "planck_data = pf.open('HFI_PCCS_SZ-union_R2.08.fits')[1].data"
   ]
  },
  {
   "cell_type": "code",
   "execution_count": 3,
   "metadata": {},
   "outputs": [],
   "source": [
    "z = planck_data['redshift']\n",
    "snr = planck_data['snr']\n",
    "mass = planck_data['MSZ']\n",
    "ra = planck_data['ra']\n",
    "dec = planck_data['dec']\n",
    "mcxc = planck_data['mcxc']\n",
    "redmapper = planck_data['redmapper']\n",
    "spt = planck_data['spt']\n",
    "act = planck_data['act']\n",
    "wise = planck_data['wise_flag']\n",
    "cosmo = planck_data['cosmo']\n",
    "comment = planck_data['comment']\n",
    "\n",
    "N = 40\n",
    "z_mask = (z>0)*(z<0.2)\n",
    "id_snr = np.argsort(snr[z_mask])[-1*N:][::-1]\n",
    "ra = ra[z_mask][id_snr]\n",
    "dec = dec[z_mask][id_snr]\n",
    "z = z[z_mask][id_snr]\n",
    "snr = snr[z_mask][id_snr]\n",
    "mass = mass[z_mask][id_snr]\n",
    "mcxc = mcxc[z_mask][id_snr]\n",
    "redmapper = redmapper[z_mask][id_snr]\n",
    "spt = spt[z_mask][id_snr]\n",
    "act = act[z_mask][id_snr]\n",
    "wise = wise[z_mask][id_snr]\n",
    "cosmo = cosmo[z_mask][id_snr]\n",
    "comment = comment[z_mask][id_snr]"
   ]
  },
  {
   "cell_type": "code",
   "execution_count": 4,
   "metadata": {},
   "outputs": [],
   "source": [
    "np.savez('planck_cluster_top40.npz', ra=ra, dec=dec, z=z, snr=snr, mass=mass, mcxc=mcxc, redmapper=redmapper, \n",
    "        spt=spt, act=act, wise=wise, cosmo=cosmo, comment=comment)"
   ]
  },
  {
   "cell_type": "code",
   "execution_count": 5,
   "metadata": {},
   "outputs": [
    {
     "name": "stdout",
     "output_type": "stream",
     "text": [
      "['' '' '' '' '' '' 'RMJ155820.0+271400.3' '' '' 'RMJ151100.1+054658.0' ''\n",
      " 'RMJ004143.0-092621.9' '' '' '' '' '' 'RMJ134853.3+263613.4' '' '' ''\n",
      " 'RMJ142556.7+374859.2' '' '' '' 'RMJ131129.5-012028.0' '' '' '' '' ''\n",
      " 'RMJ105823.7+564742.0' 'RMJ151011.7+332911.3' 'RMJ162838.2+393304.5' ''\n",
      " '' '' '' '' 'RMJ005625.6-011544.9']\n"
     ]
    }
   ],
   "source": [
    "print(redmapper)"
   ]
  },
  {
   "cell_type": "code",
   "execution_count": 6,
   "metadata": {},
   "outputs": [
    {
     "name": "stdout",
     "output_type": "stream",
     "text": [
      "['J1921.1+4357' 'J1703.8+7838' 'J0431.4-6126' 'J0909.1-0939'\n",
      " 'J1259.7+2756' 'J1638.2-6420' 'J1558.3+2713' 'J2012.5-5649'\n",
      " 'J1712.7+6403' 'J1510.9+0543' 'J1635.8+6612' 'J0041.8-0918'\n",
      " 'J0645.4-5413' 'J0352.4-7401' 'J0342.8-5338' 'J2201.9-5956'\n",
      " 'J0258.9+1334' 'J1348.8+2635' 'J1347.4-3250' 'J1327.9-3130'\n",
      " 'J0830.9+6551' 'J1426.0+3749' 'J2234.5-3744' 'J0817.4-0730'\n",
      " 'J1631.6-7507' 'J1311.5-0120' 'J1601.7-7544' 'J0635.0+2231'\n",
      " 'J0627.2-5428' 'J1632.7+0534' 'J1257.1-1724' 'J1058.4+5647'\n",
      " 'J1510.1+3330' 'J1628.6+3932' 'J0413.4+1028' 'J1602.3+1601'\n",
      " 'J1407.8-5100' 'J1259.3-0411' 'J1825.3+3026' 'J0056.3-0112']\n"
     ]
    }
   ],
   "source": [
    "print(mcxc)"
   ]
  },
  {
   "cell_type": "code",
   "execution_count": 7,
   "metadata": {},
   "outputs": [
    {
     "name": "stdout",
     "output_type": "stream",
     "text": [
      "['' '' 'SPT-CLJ0431-6126' '' '' '' '' 'SPT-CLJ2012-5649' '' '' '' ''\n",
      " 'SPT-CLJ0645-5413' '' '' 'SPT-CLJ2201-5956' '' '' '' '' '' '' '' '' '' ''\n",
      " '' '' '' '' '' '' '' '' '' '' '' '' '' '']\n"
     ]
    }
   ],
   "source": [
    "print(spt)"
   ]
  },
  {
   "cell_type": "code",
   "execution_count": 8,
   "metadata": {},
   "outputs": [
    {
     "name": "stdout",
     "output_type": "stream",
     "text": [
      "['' '' '' '' '' '' '' '' '' '' '' '' 'ACT-CL J0645-5413' '' '' '' '' '' ''\n",
      " '' '' '' '' '' '' '' '' '' '' '' '' '' '' '' '' '' '' '' '' '']\n"
     ]
    }
   ],
   "source": [
    "print(act)"
   ]
  },
  {
   "cell_type": "code",
   "execution_count": 9,
   "metadata": {},
   "outputs": [
    {
     "name": "stdout",
     "output_type": "stream",
     "text": [
      "['' '' '' '' '' '' '' '' '' '' '' '' 'Point sources at: 857GHz,' '' ''\n",
      " 'Point sources at: 353GHz,' '' '' '' '' '' '' '' '' ''\n",
      " 'Point sources at: 353GHz, 545GHz,' 'Point sources at: 353GHz,' '' '' ''\n",
      " '' '' '' 'Point sources at: 353GHz, 545GHz,' '' '' '' ''\n",
      " 'Point sources at: 545GHz,' '']\n"
     ]
    }
   ],
   "source": [
    "print(comment)"
   ]
  },
  {
   "cell_type": "code",
   "execution_count": null,
   "metadata": {},
   "outputs": [],
   "source": []
  },
  {
   "cell_type": "code",
   "execution_count": null,
   "metadata": {},
   "outputs": [],
   "source": []
  }
 ],
 "metadata": {
  "kernelspec": {
   "display_name": "Python 3",
   "language": "python",
   "name": "python3"
  },
  "language_info": {
   "codemirror_mode": {
    "name": "ipython",
    "version": 3
   },
   "file_extension": ".py",
   "mimetype": "text/x-python",
   "name": "python",
   "nbconvert_exporter": "python",
   "pygments_lexer": "ipython3",
   "version": "3.6.8"
  }
 },
 "nbformat": 4,
 "nbformat_minor": 2
}
