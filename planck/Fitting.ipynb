{
 "cells": [
  {
   "cell_type": "code",
   "execution_count": 11,
   "metadata": {},
   "outputs": [
    {
     "name": "stdout",
     "output_type": "stream",
     "text": [
      "Populating the interactive namespace from numpy and matplotlib\n"
     ]
    }
   ],
   "source": [
    "import numpy as np\n",
    "import scipy\n",
    "import pylab as mplot\n",
    "from scipy import interpolate as intrp\n",
    "from scipy import integrate as intg\n",
    "import scipy.optimize as op\n",
    "\n",
    "mplot.rc('text', usetex=True)\n",
    "mplot.rc('font', family='serif')\n",
    "%pylab inline"
   ]
  },
  {
   "cell_type": "code",
   "execution_count": 27,
   "metadata": {},
   "outputs": [],
   "source": [
    "# add NFW with same mass\n",
    "h0 = 0.7\n",
    "Om0 = 0.3\n",
    "z_max = 40./h0\n",
    "from astropy.cosmology import FlatLambdaCDM\n",
    "cosmo = FlatLambdaCDM(H0=100*h0, Om0=Om0)\n",
    "from astropy import units as u\n",
    "\n",
    "def mass_richness_sv(richness,z):\n",
    "    #From SV paper\n",
    "    M_0 = 2.35e14\n",
    "    lambda_0 = 30.\n",
    "    z_0 = 0.5\n",
    "    F = 1.12\n",
    "    G = 0.11\n",
    "    #No factors of h\n",
    "    M200m = M_0*((richness/lambda_0)**F)*((1.+z)/(1.+z_0))**G\n",
    "    return M200m \n",
    "\n",
    "def mass_to_R200m(mass, z, cosmo):\n",
    "    rho_m_z = cosmo.Om(z)*cosmo.critical_density(z)\n",
    "    mass_units = mass*u.Msun\n",
    "    R200m = ((mass_units/(200.*4.*np.pi*rho_m_z/3.))**(1./3.)).to('Mpc')\n",
    "    return R200m.value\n",
    "\n",
    "def m200_to_c200_duffy(mass_200, z, h, mean_or_crit_input):\n",
    "    #Using full (not relaxed)                                                                                                                       \n",
    "    M_pivot = (2.0e12)/h\n",
    "    if (mean_or_crit_input == 'crit'):\n",
    "        A = 5.71\n",
    "        B = -0.084\n",
    "        C = -0.47\n",
    "    if (mean_or_crit_input == 'mean'):\n",
    "        A = 10.14\n",
    "        B = -0.081\n",
    "        C = -1.01\n",
    "    c_200 = A*((mass_200/M_pivot)**B)*(1.+z)**C\n",
    "    return c_200\n",
    "\n",
    "def rho_to_sigma_fast(rr, rho, R_array):\n",
    "    sigma = np.zeros(len(R_array))\n",
    "    lnrho_func = intrp.interp1d(np.log(rr), np.log(rho))\n",
    "    if (1): \n",
    "        minz_to_integrate = 0.0\n",
    "        maxz_to_integrate = z_max\n",
    "        num_z_tointegrate = 1500\n",
    "        z_tointegrate = np.linspace(minz_to_integrate, maxz_to_integrate, num = num_z_tointegrate)\n",
    "        for ri in range(0,len(R_array)):\n",
    "            func_evals = np.exp(lnrho_func(np.log(np.sqrt(R_array[ri]**2. + z_tointegrate**2.))))\n",
    "            #twice since integral is symmetric and want -infty to +infty\n",
    "            sigma[ri] = 2.*intg.simps(func_evals, z_tointegrate)\n",
    "    return sigma\n",
    "\n",
    "def Sigma_to_DeltaSigma_fast(R_output, R_Sigma, Sigma, params, minR):\n",
    "\n",
    "    temp = np.copy(R_Sigma)\n",
    "    temp[0] *= 0.999999\n",
    "    temp[-1] *= 1.000001\n",
    "    sigma_interp_func = intrp.interp1d(np.log(temp), Sigma)\n",
    "    to_integrate_func = intrp.interp1d(temp, Sigma*R_Sigma)\n",
    "\n",
    "    dsig = np.zeros(len(R_output))\n",
    "    for i in range(len(R_output)):\n",
    "        if (minR < np.min(temp) or np.min(R_output) < np.min(temp)): \n",
    "            pdb.set_trace()\n",
    "        integral_result = intg.quad(to_integrate_func, minR, R_output[i], epsabs=1.0e-03, epsrel=1.0e-03)\n",
    "        dsig[i] = 2.*(integral_result[0] + params['integral_R_min'])/(R_output[i]**2.) - sigma_interp_func(np.log(R_output[i]))\n",
    "\n",
    "    return dsig\n",
    "\n",
    "def NFW(rho_0, r_s, rr):\n",
    "    rho = (rho_0)/((rr/r_s)*(1.+rr/r_s)**2.)\n",
    "    return rho\n",
    "\n",
    "def gNFW(rho_0, r_s, alpha, beta, gamma, rr):\n",
    "    rho = rho_0 * (rr/r_s)**(-gamma)*(1.+(rr/r_s)**alpha)**((gamma-beta)/alpha)\n",
    "    return rho\n",
    "\n",
    "def gNFW_delta(rho_0, r_s, alpha, beta, gamma, r_sh, delta, rr):\n",
    "    rho = rho_0 * (rr/r_s)**(-gamma)*(1.+(rr/r_s)**alpha)**((gamma-beta)/alpha)\n",
    "    rho[rr>=r_sh] *= (rr[rr>=r_sh]/r_sh)**(-delta)     \n",
    "    return rho\n",
    "\n",
    "def gNFW_sh(rho_0, r_s, alpha, beta, gamma, r_sh, delta, Q_sh, rr):\n",
    "    rho = rho_0 * (rr/r_s)**(-gamma)*(1.+(rr/r_s)**alpha)**((gamma-beta)/alpha)\n",
    "    rho[rr>=r_sh] *= (rr[rr>=r_sh]/r_sh)**(-delta)*Q_sh        \n",
    "    return rho"
   ]
  },
  {
   "cell_type": "code",
   "execution_count": 145,
   "metadata": {},
   "outputs": [],
   "source": [
    "RR = np.exp(np.linspace(np.log(0.01), np.log(50.0), num = 100)) # Comoving Mpc\n",
    "\n",
    "def P_gNFW_sh(P0, r_s, alpha, beta, gamma, r_sh, delta, Q_sh, rr):\n",
    "    P = P0 * (rr/r_s)**(-gamma)*(1.+(rr/r_s)**alpha)**((gamma-beta)/alpha)\n",
    "    P[rr>=r_sh] = P[rr<r_sh][-1] * (rr[rr>=r_sh]/r_sh)**(-delta)*Q_sh        \n",
    "    return P\n",
    "\n",
    "def P_sigma_gNFW_sh(P0, r_s, alpha, beta, gamma, r_sh, delta, Q_sh, RR):\n",
    "    rr = np.exp(np.linspace(np.log(0.0001), np.log(100.0), num = 10000)) # Comoving Mpc\n",
    "    p_gNFW_sh = P_gNFW_sh(P0, r_s, alpha, beta, gamma, r_sh, delta, Q_sh, rr)\n",
    "    sigma_gNFW_sh = rho_to_sigma_fast(rr, p_gNFW_sh, RR)\n",
    "    return sigma_gNFW_sh\n",
    "    \n",
    "def lnlikelihood(params, RR, data_vec, invcov):\n",
    "\n",
    "    lnlike_priors = priors(params)\n",
    "\n",
    "    P0, r_s, alpha, beta, gamma, r_sh, delta, Q_sh = params\n",
    "    model = P_sigma_gNFW_sh(P0, r_s, alpha, beta, gamma, r_sh, delta, Q_sh, RR)\n",
    "    diff = data_vec - model\n",
    "    detinvcov = np.linalg.det(invcov)\n",
    "    detcov = 1./detinvcov\n",
    "#     lnlike_data = -0.5*(len(data_vec)*np.log(2.*np.pi) + np.log(detcov)) -0.5*np.dot(diff, np.dot(invcov, diff))\n",
    "    lnlike_data = -0.5*(len(data_vec)*np.log(2.*np.pi)) -0.5*np.dot(diff, np.dot(invcov, diff))\n",
    "    \n",
    "    lnlike = lnlike_data #+ lnlike_priors\n",
    "    return lnlike\n",
    "\n",
    "def priors(params):\n",
    "\n",
    "    P0, r_s, alpha, beta, gamma, r_sh, delta, Q_sh = params\n",
    "    ln_beta = np.log(beta)\n",
    "    \n",
    "    r_s_max = 3.0\n",
    "    r_s_min = 0.0\n",
    "    \n",
    "    if (r_s < r_s_min) or (r_s > r_s_max):\n",
    "        lnprior = -1.0e10\n",
    "\n",
    "    else:\n",
    "        mean_logbeta = np.log10(4.5)\n",
    "        sigma_logbeta = 0.2\n",
    "\n",
    "        lnprior_beta =  -0.5*np.log(2.*np.pi*sigma_logbeta**2.)-0.5*((ln_beta - mean_logbeta)**2.)/sigma_logbeta**2.\n",
    "        lnprior = lnprior_beta\n",
    "\n",
    "    return lnprior"
   ]
  },
  {
   "cell_type": "code",
   "execution_count": 151,
   "metadata": {},
   "outputs": [],
   "source": [
    "N = 70\n",
    "data_file = np.load('Hurier_cluster_bootstrap.npz')\n",
    "data_file.files\n",
    "data_vec = data_file['mean_y'][:N] - data_file['bg']\n",
    "R = data_file['R_over_R500'][:N]\n",
    "invcov = np.linalg.inv(data_file['cov'][:N, :N])"
   ]
  },
  {
   "cell_type": "code",
   "execution_count": 152,
   "metadata": {},
   "outputs": [
    {
     "name": "stderr",
     "output_type": "stream",
     "text": [
      "/Users/chihwaychang/anaconda3/lib/python3.6/site-packages/numpy/linalg/linalg.py:1874: RuntimeWarning: overflow encountered in det\n",
      "  r = _umath_linalg.det(a, signature=signature)\n",
      "/Users/chihwaychang/anaconda3/lib/python3.6/site-packages/ipykernel_launcher.py:4: RuntimeWarning: invalid value encountered in power\n",
      "  after removing the cwd from sys.path.\n"
     ]
    }
   ],
   "source": [
    "nll = lambda *args: -lnlikelihood(*args)\n",
    "method = 'L-BFGS-B'\n",
    "p0 = [1.3e-4, 1.0, 1.05, 4.5, 0.23, 3, 5, 0.4]\n",
    "args = (R, data_vec, invcov)\n",
    "result = op.minimize(nll, p0, args=args, method = method, options = {'disp':True})"
   ]
  },
  {
   "cell_type": "code",
   "execution_count": 153,
   "metadata": {},
   "outputs": [
    {
     "name": "stdout",
     "output_type": "stream",
     "text": [
      "[8.01349791e-05 1.11196359e+00 1.29141066e+00 4.49683978e+00\n",
      " 7.39292300e-02 2.95424864e+00 5.00717175e+00 3.32265981e-01]\n"
     ]
    }
   ],
   "source": [
    "print(result.x)"
   ]
  },
  {
   "cell_type": "code",
   "execution_count": 154,
   "metadata": {},
   "outputs": [
    {
     "data": {
      "text/plain": [
       "<matplotlib.legend.Legend at 0x1825da04a8>"
      ]
     },
     "execution_count": 154,
     "metadata": {},
     "output_type": "execute_result"
    },
    {
     "data": {
      "image/png": "[encoded data removed]",
      "text/plain": [
       "<Figure size 432x288 with 1 Axes>"
      ]
     },
     "metadata": {},
     "output_type": "display_data"
    }
   ],
   "source": [
    "mplot.errorbar(R, data_vec, yerr=np.diag(data_file['cov'][:N, :N])**0.5, label='data')\n",
    "#P0, r_s, alpha, beta, gamma, r_sh, delta, Q_sh = params\n",
    "# mplot.loglog(R, P_sigma_gNFW_sh(1.3e-4, 1.0, 1.05, 4.5, 0.23, 3, 5, 0.4, R), label='random model')\n",
    "P0, r_s, alpha, beta, gamma, r_sh, delta, Q_sh = result.x\n",
    "mplot.loglog(R, P_sigma_gNFW_sh(P0, r_s, alpha, beta, gamma, r_sh, delta, Q_sh, R), label='fit')\n",
    "mplot.legend()"
   ]
  },
  {
   "cell_type": "code",
   "execution_count": 144,
   "metadata": {},
   "outputs": [
    {
     "name": "stdout",
     "output_type": "stream",
     "text": [
      "0.0\n",
      "0.0\n"
     ]
    },
    {
     "data": {
      "image/png": "[encoded data removed]",
      "text/plain": [
       "<Figure size 432x288 with 1 Axes>"
      ]
     },
     "metadata": {},
     "output_type": "display_data"
    }
   ],
   "source": [
    "mplot.imshow(invcov)\n",
    "print(np.linalg.det(data_file['cov'][:N, :N]))\n",
    "new_cov = np.zeros((N,N))\n",
    "for i in range(N):\n",
    "    new_cov[i][i] = data_file['cov'][i, i]\n",
    "print(np.linalg.det(new_cov))\n"
   ]
  },
  {
   "cell_type": "code",
   "execution_count": null,
   "metadata": {},
   "outputs": [],
   "source": []
  }
 ],
 "metadata": {
  "kernelspec": {
   "display_name": "Python 3",
   "language": "python",
   "name": "python3"
  },
  "language_info": {
   "codemirror_mode": {
    "name": "ipython",
    "version": 3
   },
   "file_extension": ".py",
   "mimetype": "text/x-python",
   "name": "python",
   "nbconvert_exporter": "python",
   "pygments_lexer": "ipython3",
   "version": "3.6.5"
  }
 },
 "nbformat": 4,
 "nbformat_minor": 2
}
