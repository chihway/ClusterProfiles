{
 "cells": [
  {
   "cell_type": "code",
   "execution_count": 49,
   "metadata": {},
   "outputs": [
    {
     "name": "stdout",
     "output_type": "stream",
     "text": [
      "16.0458452722\n"
     ]
    }
   ],
   "source": [
    "import numpy as np\n",
    "from scipy.special import gamma\n",
    "#check redshift-angles...distance = c z /H0\n",
    "distance = 0.1*300000/70\n",
    "rvir_radians = 2.0/distance\n",
    "arcmin = rvir_radians*180/3.141*60\n",
    "print arcmin\n"
   ]
  },
  {
   "cell_type": "code",
   "execution_count": 50,
   "metadata": {
    "collapsed": true
   },
   "outputs": [],
   "source": [
    "#beta and gNFW profile\n",
    "import numpy as np\n",
    "from scipy.special import gamma\n",
    "\n",
    "#constants for beta profile that affect normalization\n",
    "mc2sigmaT = 1.0\n",
    "y0 = 1.0\n",
    "P_0 = 1.0 \n",
    "beta0 = 1.0\n",
    "def betaProfile(r,rc,beta): \n",
    "    #uncomment line below once correct constants are used above\n",
    "    #P_0 = mc2sigmaT (y0/rc) gamma(beta+0.5)/np.sqrt(np.pi)/gamma(beta)\n",
    "    x = r/rc\n",
    "    Pressure = P_0/(1 + x**2)**(beta+0.5)\n",
    "    return Pressure\n",
    "\n",
    "#example call \n",
    "#p = betaProfile(1.,0.5,beta0)\n",
    "#print p\n",
    "\n",
    "#constants from Table 1 of Hurier et al\n",
    "alpha0 = 1.0\n",
    "beta0 = 4.5\n",
    "gamma0 = 0.23\n",
    "delta0 = 1.0\n",
    "r500_0 = 0.5\n",
    "c500_0 = 1.0\n",
    "P0P500 = 1.0\n",
    "rsh_0 = 2.93*r500_0 \n",
    "Qsh_0 = 0.6 #0.1 #-0.012 \n",
    "\n",
    "def gNFWProfile(r,r500,c500,alpha,beta,gamma):\n",
    "    xsh = rsh/r500\n",
    "    x = r/r500\n",
    "    y = x*c500\n",
    "   \n",
    "    Pressure = P0P500/(y**gamma * (1.+y**alpha)**((beta-gamma)/alpha))\n",
    "   \n",
    "    return Pressure\n",
    "\n",
    "#power law cutoff. option to change to exponential.\n",
    "def gNFWProfile_delta(r,r500,rsh,c500,alpha,beta,gamma):\n",
    "    xsh = rsh/r500\n",
    "    x = r/r500\n",
    "    y = x*c500\n",
    "    if x<xsh:\n",
    "        Pressure = P0P500/(y**gamma * (1.+y**alpha)**((beta-gamma)/alpha))\n",
    "    elif x>=xsh:\n",
    "        Pressure = P0P500/(y**gamma * (1.+y**alpha)**((beta-gamma)/alpha))/ (x/xsh)**delta\n",
    "        #Pressure = P0P500/(y**gamma * (1.+y**alpha)**((beta-gamma)/alpha))*(np.exp(1 - (x/xsh)))\n",
    "    return Pressure\n",
    "\n",
    "#power law cutoff with a drop in the pressure at r > shock radius\n",
    "def gNFWProfile_Qsh_delta(r,r500,rsh,Qsh,c500,alpha,beta,gamma):\n",
    "    xsh = rsh/r500\n",
    "    x = r/r500\n",
    "    y = x*c500\n",
    "    if x<xsh:\n",
    "        Pressure = P0P500/(y**gamma * (1.+y**alpha)**((beta-gamma)/alpha))\n",
    "    elif x>=xsh:\n",
    "        Pressure = Qsh*(np.exp(1 - (x/xsh)))*P0P500/(y**gamma * (1.+y**alpha)**((beta-gamma)/alpha))\n",
    "    return Pressure\n",
    "\n",
    "#example call \n",
    "alpha = alpha0\n",
    "beta = beta0\n",
    "gamma = gamma0\n",
    "r500 = r500_0\n",
    "c500 = c500_0\n",
    "rsh = rsh_0\n",
    "delta = delta0\n",
    "Qsh = Qsh_0\n",
    "#p = gNFWProfile(1.0,r500,c500,alpha,beta,gamma)\n",
    "#print p"
   ]
  },
  {
   "cell_type": "code",
   "execution_count": 51,
   "metadata": {},
   "outputs": [
    {
     "data": {
      "image/png": "[encoded data removed]",
      "text/plain": [
       "<matplotlib.figure.Figure at 0x1045f7090>"
      ]
     },
     "metadata": {},
     "output_type": "display_data"
    },
    {
     "data": {
      "image/png": "[encoded data removed]",
      "text/plain": [
       "<matplotlib.figure.Figure at 0x10a56fd10>"
      ]
     },
     "metadata": {},
     "output_type": "display_data"
    }
   ],
   "source": [
    "#plot the  profiles. choose parameter values, else inherit from previous cell.\n",
    "import matplotlib.pyplot as plt\n",
    "%matplotlib inline\n",
    "import numpy as np\n",
    "\n",
    "imax = 500\n",
    "xx = np.linspace(0.01,4,imax)\n",
    "yy = np.zeros(imax); zz = np.zeros(imax); ww = np.zeros(imax); vv = np.zeros(imax)\n",
    "\n",
    "ww = gNFWProfile(xx,r500,c500,alpha,beta,gamma)\n",
    "#zz = gNFWProfile_delta(xx,r500,rsh,c500,alpha,beta,gamma)\n",
    "#vv = gNFWProfile_Qsh_delta(xx,r500,rsh,Qsh,c500,alpha,beta,gamma)\n",
    "\n",
    "for ii in range (imax):\n",
    "    #yy[ii] = betaProfile(xx[ii],0.5,beta0)\n",
    "    #ww[ii] = gNFWProfile(xx[ii],r500,c500,alpha,beta,gamma)\n",
    "    zz[ii] = gNFWProfile_delta(xx[ii],r500,rsh,c500,alpha,beta,gamma)\n",
    "    vv[ii] = gNFWProfile_Qsh_delta(xx[ii],r500,rsh,Qsh,c500,alpha,beta,gamma)\n",
    "    \n",
    "    #print xx[ii],yy[ii]\n",
    "\n",
    "plt.figure()    \n",
    "plt.xlim(0.1,4); plt.ylim(1.0e-4,1)\n",
    "plt.xlabel(\"log R\"); plt.ylabel(\"log y\")\n",
    "plt.plot(xx,ww,'r', label = 'gNFWProfile')\n",
    "plt.plot(xx,zz,'g', label = 'gNFWProfile_exp')\n",
    "plt.plot(xx,vv,'--', label = 'gNFWProfile_Qsh_exp')\n",
    "plt.xscale('log');plt.yscale('log')\n",
    "plt.legend()\n",
    "\n",
    "plt.figure()\n",
    "plt.xlim(0.1,4); plt.ylim(0.01,1.2)\n",
    "plt.plot(xx,zz/ww, 'b')#,label = 'gNFWProfile_exp/gNFWProfile')\n",
    "plt.plot(xx, (vv/ww), 'r')#, label = 'gNFWProfile_Qsh_exp/gNFWProfile')\n",
    "plt.xscale('log') \n",
    "plt.xlabel(\"log R\"); plt.ylabel(\"ratio\")\n",
    "plt.legend()\n",
    "\n",
    "\n",
    "plt.show()"
   ]
  },
  {
   "cell_type": "code",
   "execution_count": null,
   "metadata": {
    "collapsed": true
   },
   "outputs": [],
   "source": []
  },
  {
   "cell_type": "code",
   "execution_count": null,
   "metadata": {
    "collapsed": true
   },
   "outputs": [],
   "source": []
  }
 ],
 "metadata": {
  "kernelspec": {
   "display_name": "Python 3",
   "language": "python",
   "name": "python3"
  },
  "language_info": {
   "codemirror_mode": {
    "name": "ipython",
    "version": 3
   },
   "file_extension": ".py",
   "mimetype": "text/x-python",
   "name": "python",
   "nbconvert_exporter": "python",
   "pygments_lexer": "ipython3",
   "version": "3.6.5"
  }
 },
 "nbformat": 4,
 "nbformat_minor": 2
}
