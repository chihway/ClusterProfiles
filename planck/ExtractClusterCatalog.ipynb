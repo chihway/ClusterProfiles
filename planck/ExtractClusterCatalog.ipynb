{
 "cells": [
  {
   "cell_type": "code",
   "execution_count": 1,
   "metadata": {},
   "outputs": [
    {
     "name": "stdout",
     "output_type": "stream",
     "text": [
      "Populating the interactive namespace from numpy and matplotlib\n"
     ]
    }
   ],
   "source": [
    "import astropy.io.fits as pf\n",
    "import pylab as mplot\n",
    "%pylab inline\n",
    "import healpy as hp\n",
    "from astropy import units as u\n",
    "from astropy.coordinates import SkyCoord\n",
    "from pylab import cm\n",
    "mplot.rc('text', usetex=True)\n",
    "mplot.rc('font', family='serif')\n",
    "from astropy.cosmology import FlatLambdaCDM\n",
    "cosmo = FlatLambdaCDM(H0=70, Om0=0.3, Tcmb0=2.725)\n"
   ]
  },
  {
   "cell_type": "code",
   "execution_count": 2,
   "metadata": {},
   "outputs": [],
   "source": [
    "planck_data = pf.open('HFI_PCCS_SZ-union_R2.08.fits')[1].data"
   ]
  },
  {
   "cell_type": "code",
   "execution_count": 16,
   "metadata": {},
   "outputs": [],
   "source": [
    "z = planck_data['redshift']\n",
    "snr = planck_data['snr']\n",
    "mass = planck_data['MSZ']\n",
    "ra = planck_data['ra']\n",
    "dec = planck_data['dec']\n",
    "mcxc = planck_data['mcxc']\n",
    "redmapper = planck_data['redmapper']\n",
    "spt = planck_data['spt']\n",
    "act = planck_data['act']\n",
    "wise = planck_data['wise_flag']\n",
    "cosmo = planck_data['cosmo']\n",
    "comment = planck_data['comment']\n",
    "\n",
    "N = 40\n",
    "z_mask = (z>0)*(z<0.2)\n",
    "id_snr = np.argsort(snr[z_mask])[-1*N:][::-1]\n",
    "ra = ra[z_mask][id_snr]\n",
    "dec = dec[z_mask][id_snr]\n",
    "z = z[z_mask][id_snr]\n",
    "snr = snr[z_mask][id_snr]\n",
    "mass = mass[z_mask][id_snr]\n",
    "mcxc = mcxc[z_mask][id_snr]\n",
    "redmapper = redmapper[z_mask][id_snr]\n",
    "spt = spt[z_mask][id_snr]\n",
    "act = act[z_mask][id_snr]\n",
    "wise = wise[z_mask][id_snr]\n",
    "cosmo = cosmo[z_mask][id_snr]\n",
    "comment = comment[z_mask][id_snr]"
   ]
  },
  {
   "cell_type": "code",
   "execution_count": 17,
   "metadata": {},
   "outputs": [],
   "source": [
    "np.savez('planck_cluster_top40.npz', ra=ra, dec=dec, z=z, snr=snr, mass=mass, mcxc=mcxc, redmapper=redmapper, \n",
    "        spt=spt, act=act, wise=wise, cosmo=cosmo, comment=comment)"
   ]
  },
  {
   "cell_type": "code",
   "execution_count": 14,
   "metadata": {},
   "outputs": [
    {
     "name": "stdout",
     "output_type": "stream",
     "text": [
      "['' '' '' '' '' '' 'RMJ155820.0+271400.3' '' '' 'RMJ151100.1+054658.0' ''\n",
      " 'RMJ004143.0-092621.9' '' '' '' '' '' 'RMJ134853.3+263613.4' '' '' ''\n",
      " 'RMJ142556.7+374859.2' '' '' '' 'RMJ131129.5-012028.0' '' '' '' '' ''\n",
      " 'RMJ105823.7+564742.0' 'RMJ151011.7+332911.3' 'RMJ162838.2+393304.5' ''\n",
      " '' '' '' '' 'RMJ005625.6-011544.9']\n"
     ]
    }
   ],
   "source": [
    "print(redmapper)"
   ]
  },
  {
   "cell_type": "code",
   "execution_count": 15,
   "metadata": {},
   "outputs": [
    {
     "data": {
      "text/plain": [
       "chararray(['', 'Point sources at: 353GHz,', '', ..., '', '',\n",
       "           'Point sources at: 217GHz, 353GHz, 545GHz, 857GHz,'],\n",
       "          dtype='<U128')"
      ]
     },
     "execution_count": 15,
     "metadata": {},
     "output_type": "execute_result"
    }
   ],
   "source": [
    "planck_data['comment']"
   ]
  },
  {
   "cell_type": "code",
   "execution_count": null,
   "metadata": {},
   "outputs": [],
   "source": []
  }
 ],
 "metadata": {
  "kernelspec": {
   "display_name": "Python 3",
   "language": "python",
   "name": "python3"
  },
  "language_info": {
   "codemirror_mode": {
    "name": "ipython",
    "version": 3
   },
   "file_extension": ".py",
   "mimetype": "text/x-python",
   "name": "python",
   "nbconvert_exporter": "python",
   "pygments_lexer": "ipython3",
   "version": "3.6.8"
  }
 },
 "nbformat": 4,
 "nbformat_minor": 2
}
